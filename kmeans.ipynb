{
 "cells": [
  {
   "cell_type": "code",
   "execution_count": 65,
   "metadata": {},
   "outputs": [],
   "source": [
    "import numpy as np\n",
    "import matplotlib.pyplot as plt"
   ]
  },
  {
   "cell_type": "code",
   "execution_count": 66,
   "metadata": {},
   "outputs": [],
   "source": [
    "\n",
    "#helps to generate data from a gaussian distribution having std deviation as sigma\n",
    "def generate_data(sigma):\n",
    "    mean_a = np.array([-1, -1])\n",
    "    cov_a = sigma * np.array([2, 0.5, 0.5, 1]).reshape((2,2))\n",
    "    a = np.random.multivariate_normal(mean=mean_a, cov=cov_a, size=100)\n",
    "    mean_b = np.array([1, -1])\n",
    "    cov_b = sigma * np.array([1, -0.5, -0.5, 2]).reshape((2,2))\n",
    "    b = np.random.multivariate_normal(mean=mean_b, cov=cov_b, size=100)\n",
    "    mean_c = np.array([0, 1])\n",
    "    cov_c = sigma * np.array([1, 0, 0, 2]).reshape((2,2))\n",
    "    c = np.random.multivariate_normal(mean=mean_c, cov=cov_c, size=100)\n",
    "    return a, b, c\n"
   ]
  },
  {
   "cell_type": "code",
   "execution_count": 67,
   "metadata": {},
   "outputs": [],
   "source": [
    "def get_assignments(data, centre1, centre2, centre3):\n",
    "    assignments = []\n",
    "    for i in range(len(data)):\n",
    "        pt = data[i]\n",
    "        d = []\n",
    "        d.append(np.linalg.norm(pt - centre1))\n",
    "        d.append(np.linalg.norm(pt- centre2))\n",
    "        d.append(np.linalg.norm(pt - centre3))\n",
    "        assignments.append(d.index(min(d)))\n",
    "    return assignments"
   ]
  },
  {
   "cell_type": "code",
   "execution_count": 68,
   "metadata": {},
   "outputs": [],
   "source": [
    "def update_centers(data, assignments):\n",
    "    n = np.zeros(6).reshape((3, 2))\n",
    "    d = np.zeros(3)\n",
    "    for i in range(len(assignments)):\n",
    "        n[assignments[i]] += data[i]\n",
    "        d[assignments[i]] += 1\n",
    "    c1 = n[0] / d[0]\n",
    "    c2 = n[1] / d[1]\n",
    "    c3 = n[2] / d[2]\n",
    "    return c1, c2, c3"
   ]
  },
  {
   "cell_type": "code",
   "execution_count": 69,
   "metadata": {},
   "outputs": [],
   "source": [
    "def k_loss(data, assignments, c1, c2, c3):\n",
    "    c = [c1, c2, c3]\n",
    "    l = 0\n",
    "    for i in range(len(assignments)):\n",
    "        l += np.linalg.norm(data[i] - c[assignments[i]])\n",
    "    return l / len(assignments)"
   ]
  },
  {
   "cell_type": "code",
   "execution_count": 70,
   "metadata": {},
   "outputs": [],
   "source": [
    "def k_means(data, c1, c2, c3):\n",
    "    a = get_assignments(data, c1, c2, c3)\n",
    "    loss = k_loss(data, a, c1, c2, c3)\n",
    "    n1, n2, n3 = update_centers(data, a)\n",
    "    if loss - k_loss(data, a, n1, n2, n3) == 0:\n",
    "        return c1, c2, c3, loss\n",
    "    else:\n",
    "        return k_means(data, n1, n2, n3)"
   ]
  },
  {
   "cell_type": "code",
   "execution_count": 71,
   "metadata": {},
   "outputs": [],
   "source": [
    "def get_accuracy(clusters, assignments):\n",
    "    m = np.zeros(9).reshape(3, 3)\n",
    "    n = len(assignments)\n",
    "    for it in range(n):\n",
    "        i = assignments[it]\n",
    "        j = clusters[it]\n",
    "        m[i, j] += 1\n",
    "    a1 = (m[0, 0] + m[1, 1] + m[2, 2]) / n\n",
    "    a2 = (m[0, 1] + m[1, 2] + m[2, 0]) / n\n",
    "    a3 = (m[0, 2] + m[1, 0] + m[2, 1]) / n\n",
    "    return max(a1, a2, a3)"
   ]
  },
  {
   "cell_type": "code",
   "execution_count": 72,
   "metadata": {},
   "outputs": [
    {
     "data": {
      "image/png": "[encoded data removed]",
      "text/plain": [
       "<Figure size 432x288 with 1 Axes>"
      ]
     },
     "metadata": {
      "needs_background": "light"
     },
     "output_type": "display_data"
    },
    {
     "data": {
      "text/plain": [
       "<Figure size 432x288 with 0 Axes>"
      ]
     },
     "metadata": {},
     "output_type": "display_data"
    }
   ],
   "source": [
    "np.random.seed(5)\n",
    "sigma = [0.5, 1, 2, 4, 8]\n",
    "c1 = [0, 2]\n",
    "c2 = [-1, 0]\n",
    "c3 = [1, 0]\n",
    "objective = []\n",
    "accuracy = []\n",
    "clusters = np.array([[0] * 100, [1] * 100, [2] * 100]).reshape(300)\n",
    "for i in range(len(sigma)):\n",
    "    a, b, c = generate_data(sigma[i])\n",
    "    data = np.array([a, b, c]).reshape(300, 2)\n",
    "    x1, x2, x3, l = k_means(data, c1, c2, c3)\n",
    "    objective.append(l)\n",
    "    accuracy.append(get_accuracy(clusters, get_assignments(data, x1, x2, x3)))\n",
    "\n",
    "plt.plot(sigma, objective)\n",
    "plt.ylabel(\"Objective\")\n",
    "plt.xlabel(\"Sigma\")\n",
    "plt.title(\"k-Means Objective\")\n",
    "plt.savefig(\"./kmeans_loss.png\")\n",
    "plt.show()\n",
    "plt.clf()\n",
    "\n"
   ]
  },
  {
   "cell_type": "code",
   "execution_count": 73,
   "metadata": {},
   "outputs": [
    {
     "data": {
      "image/png": "[encoded data removed]",
      "text/plain": [
       "<Figure size 432x288 with 1 Axes>"
      ]
     },
     "metadata": {
      "needs_background": "light"
     },
     "output_type": "display_data"
    },
    {
     "data": {
      "text/plain": [
       "<Figure size 432x288 with 0 Axes>"
      ]
     },
     "metadata": {},
     "output_type": "display_data"
    }
   ],
   "source": [
    "plt.plot(sigma, accuracy)\n",
    "plt.ylabel(\"Accuracy\")\n",
    "plt.xlabel(\"Sigma\")\n",
    "plt.title(\"k-Means Accuracy\")\n",
    "plt.savefig(\"./kmeans_accuracy.png\")\n",
    "plt.show()\n",
    "plt.clf()"
   ]
  },
  {
   "cell_type": "code",
   "execution_count": null,
   "metadata": {},
   "outputs": [],
   "source": []
  }
 ],
 "metadata": {
  "kernelspec": {
   "display_name": "Python 3 (ipykernel)",
   "language": "python",
   "name": "python3"
  },
  "language_info": {
   "codemirror_mode": {
    "name": "ipython",
    "version": 3
   },
   "file_extension": ".py",
   "mimetype": "text/x-python",
   "name": "python",
   "nbconvert_exporter": "python",
   "pygments_lexer": "ipython3",
   "version": "3.10.12"
  },
  "orig_nbformat": 4
 },
 "nbformat": 4,
 "nbformat_minor": 2
}
