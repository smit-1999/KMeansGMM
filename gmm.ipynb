{
 "cells": [
  {
   "cell_type": "code",
   "execution_count": 1,
   "metadata": {},
   "outputs": [],
   "source": [
    "import numpy as np\n",
    "import matplotlib.pyplot as plt\n",
    "from scipy.stats import multivariate_normal as mvn"
   ]
  },
  {
   "cell_type": "code",
   "execution_count": 4,
   "metadata": {},
   "outputs": [],
   "source": [
    "\n",
    "def generate_data(sigma):\n",
    "    a_mean = np.array([-1, -1])\n",
    "    a_cov = sigma * np.array([2, 0.5, 0.5, 1]).reshape((2,2))\n",
    "    a = np.random.multivariate_normal(mean=a_mean, cov=a_cov, size=100)\n",
    "    b_mean = np.array([1, -1])\n",
    "    b_cov = sigma * np.array([1, -0.5, -0.5, 2]).reshape((2,2))\n",
    "    b = np.random.multivariate_normal(mean=b_mean, cov=b_cov, size=100)\n",
    "    c_mean = np.array([0, 1])\n",
    "    c_cov = sigma * np.array([1, 0, 0, 2]).reshape((2,2))\n",
    "    c = np.random.multivariate_normal(mean=c_mean, cov=c_cov, size=100)\n",
    "    return a, b, c"
   ]
  },
  {
   "cell_type": "code",
   "execution_count": 5,
   "metadata": {},
   "outputs": [],
   "source": [
    "def initialize_params(sigma):\n",
    "    mean_error_mean = np.zeros(2)\n",
    "    mean_error_cov = np.array([1, 0, 0, 1]). reshape((2, 2))\n",
    "    cov_error_mean = np.zeros(4)\n",
    "    cov_error_cov = np.array([.1, 0, 0, 0, 0, .1, 0, 0, 0, 0, .1, 0, 0, 0, 0, .1]).reshape((4, 4))\n",
    "    c1_mean = np.array([-1, -1]) + np.random.multivariate_normal(mean=mean_error_mean, cov=mean_error_cov)\n",
    "    c1_cov = sigma * np.array([2, 0.5, 0.5, 1]).reshape((2,2)) #+ np.random.multivariate_normal(mean=cov_error_mean, cov=cov_error_cov).reshape((2,2))\n",
    "    c2_mean = np.array([1, -1]) + np.random.multivariate_normal(mean=mean_error_mean, cov=mean_error_cov)\n",
    "    c2_cov = sigma * np.array([1, -0.5, -0.5, 2]).reshape((2,2)) #+ np.random.multivariate_normal(mean=cov_error_mean, cov=cov_error_cov).reshape((2,2))\n",
    "    c3_mean = np.array([0, 1]) + np.random.multivariate_normal(mean=mean_error_mean, cov=mean_error_cov)\n",
    "    c3_cov = sigma * np.array([1, 0, 0, 2]).reshape((2,2)) #+ np.random.multivariate_normal(mean=cov_error_mean, cov=cov_error_cov).reshape((2,2))\n",
    "    means = [c1_mean, c2_mean, c3_mean]\n",
    "    covs = [c1_cov, c2_cov, c3_cov]\n",
    "    return means, covs"
   ]
  },
  {
   "cell_type": "code",
   "execution_count": 7,
   "metadata": {},
   "outputs": [],
   "source": [
    "def get_expectations(data, phi, mu, sig):\n",
    "    n = len(data)\n",
    "    p = len(phi)\n",
    "    w = np.zeros(n * p).reshape((n, p))\n",
    "    for i in range(n):\n",
    "        d = 0\n",
    "        for j in range(p):\n",
    "            d += mvn.pdf(x=data[i], mean=mu[j], cov=sig[j]) * phi[j]\n",
    "        for j in range(p):\n",
    "            pz = phi[j]\n",
    "            px = mvn.pdf(x=data[i], mean=mu[j], cov=sig[j])\n",
    "            w[i, j] = (px * pz) / d\n",
    "    return w"
   ]
  },
  {
   "cell_type": "code",
   "execution_count": 8,
   "metadata": {},
   "outputs": [],
   "source": [
    "def maximize_params(data, weights):\n",
    "    n = len(data)\n",
    "    p = len(weights[0])\n",
    "    phi = sum(weights) / n\n",
    "    mu = (data.T.dot(weights) / sum(weights)).T\n",
    "    d = phi * n\n",
    "    # mu = []\n",
    "    # for j in range(p):\n",
    "    #     m = np.zeros(2)\n",
    "    #     for i in range(n):\n",
    "    #         m += weights[i, j] * data[i]\n",
    "    #     mu.append(m / d[j])\n",
    "    sig = []\n",
    "    for j in range(p):\n",
    "        s = np.zeros(4).reshape((2,2))\n",
    "        for i in range(n):\n",
    "            w = weights[i, j]\n",
    "            v = data[i] - mu[j]\n",
    "            s += w * np.outer(v, v)\n",
    "        sig.append(s / d[j])\n",
    "    return phi, mu, sig"
   ]
  },
  {
   "cell_type": "code",
   "execution_count": 9,
   "metadata": {},
   "outputs": [],
   "source": [
    "def get_labels(weights):\n",
    "    l = []\n",
    "    for i in range(len(weights)):\n",
    "        l.append(weights[i].argmax())\n",
    "    return(l)\n"
   ]
  },
  {
   "cell_type": "code",
   "execution_count": 10,
   "metadata": {},
   "outputs": [],
   "source": [
    "\n",
    "\n",
    "\n",
    "def get_loss(weights, labels):\n",
    "    l = 0\n",
    "    for i in range(len(labels)):\n",
    "        l += np.log(weights[i][labels[i]])\n",
    "    return -l \n",
    "\n",
    "def get_accuracy(source, labels):\n",
    "    m = np.zeros(9).reshape(3, 3)\n",
    "    n = len(labels)\n",
    "    for it in range(n):\n",
    "        i = labels[it]\n",
    "        j = source[it]\n",
    "        m[i, j] += 1\n",
    "    a1 = (m[0, 0] + m[1, 1] + m[2, 2]) / n\n",
    "    a2 = (m[0, 1] + m[1, 2] + m[2, 0]) / n\n",
    "    a3 = (m[0, 2] + m[1, 0] + m[2, 1]) / n\n",
    "    return max(a1, a2, a3)\n",
    "\n",
    "def plot_gmm(data, labels, means):\n",
    "    plt.scatter(data[:,0], data[:,1], c=labels, alpha=.5)\n",
    "    plt.scatter(means[0][0], means[0][1], s=100, c=\"red\", marker=\"*\")\n",
    "    plt.scatter(means[1][0], means[1][1], s=100, c=\"red\", marker=\"*\")\n",
    "    plt.scatter(means[2][0], means[2][1], s=100, c=\"red\", marker=\"*\")\n",
    "    plt.show()\n",
    "\n"
   ]
  },
  {
   "cell_type": "code",
   "execution_count": 11,
   "metadata": {},
   "outputs": [],
   "source": [
    "def gmm(data, phi, mu, sig, epsilon):\n",
    "    w0 = get_expectations(data, phi, mu, sig)\n",
    "    l0 = get_labels(w0)\n",
    "    loss0 = get_loss(w0, l0)\n",
    "    p, m, s = maximize_params(data, w0)\n",
    "    w1 = get_expectations(data, p, m, s)\n",
    "    l1 = get_labels(w1)\n",
    "    loss1 = get_loss(w1, l1)\n",
    "    # if iter % 10 == 0:\n",
    "    #     print(iter, get_loss(w1, l1))\n",
    "    if abs(loss0 - loss1) < epsilon:\n",
    "        return p, m, s, loss1\n",
    "    else:\n",
    "        return gmm(data, p, m, s, epsilon=epsilon)\n",
    "\n",
    "# experiment\n",
    "np.random.seed(5)\n",
    "sigma = [0.5, 1, 2, 4, 8]\n",
    "phi = np.array([1/3]*3).reshape(3)\n",
    "loss = []\n",
    "accuracy = []\n",
    "source = np.array([[0] * 100, [1] * 100, [2] * 100]).reshape(300)\n",
    "for i in range(len(sigma)):\n",
    "    a, b, c = generate_data(sigma[i])\n",
    "    data = np.array([a, b, c]).reshape(300, 2)\n",
    "    mu, sig = initialize_params(sigma[i])\n",
    "    p, m, s, l = gmm(data, phi, mu, sig, .1)\n",
    "    loss.append(l)\n",
    "    accuracy.append(get_accuracy(source, get_labels(get_expectations(data, p, m, s))))\n",
    "\n"
   ]
  },
  {
   "cell_type": "code",
   "execution_count": 15,
   "metadata": {},
   "outputs": [
    {
     "data": {
      "image/png": "[encoded data removed]",
      "text/plain": [
       "<Figure size 432x288 with 1 Axes>"
      ]
     },
     "metadata": {
      "needs_background": "light"
     },
     "output_type": "display_data"
    }
   ],
   "source": [
    "# plot\n",
    "plt.plot(sigma, loss)\n",
    "plt.ylabel(\"Loss\")\n",
    "plt.xlabel(\"Sigma\")\n",
    "plt.title(\"GMM Loss \")\n",
    "plt.savefig(\"./gmm_loss.png\")\n",
    "plt.show()\n",
    "\n"
   ]
  },
  {
   "cell_type": "code",
   "execution_count": 16,
   "metadata": {},
   "outputs": [
    {
     "data": {
      "image/png": "[encoded data removed]",
      "text/plain": [
       "<Figure size 432x288 with 1 Axes>"
      ]
     },
     "metadata": {
      "needs_background": "light"
     },
     "output_type": "display_data"
    }
   ],
   "source": [
    "plt.plot(sigma, accuracy)\n",
    "plt.ylabel(\"Accuracy\")\n",
    "plt.xlabel(\"Sigma\")\n",
    "plt.title(\"GMM Accuracy for each Sigma\")\n",
    "plt.savefig(\"./gmm_accuracy.png\")\n",
    "plt.show()\n"
   ]
  },
  {
   "cell_type": "code",
   "execution_count": null,
   "metadata": {},
   "outputs": [],
   "source": []
  }
 ],
 "metadata": {
  "kernelspec": {
   "display_name": "Python 3 (ipykernel)",
   "language": "python",
   "name": "python3"
  },
  "language_info": {
   "codemirror_mode": {
    "name": "ipython",
    "version": 3
   },
   "file_extension": ".py",
   "mimetype": "text/x-python",
   "name": "python",
   "nbconvert_exporter": "python",
   "pygments_lexer": "ipython3",
   "version": "3.10.12"
  },
  "orig_nbformat": 4
 },
 "nbformat": 4,
 "nbformat_minor": 2
}
